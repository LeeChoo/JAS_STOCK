{
 "cells": [
  {
   "cell_type": "code",
   "execution_count": null,
   "metadata": {
    "collapsed": true
   },
   "outputs": [],
   "source": [
    "#'https://dchart-api.vndirect.com.vn/dchart/history?symbol=SCR&resolution=5&from=1502096400000&to=1502117160000'\n",
    "# Use https://www.epochconverter.com/ to convert datetime to epochtime "
   ]
  },
  {
   "cell_type": "code",
   "execution_count": 10,
   "metadata": {
    "collapsed": false
   },
   "outputs": [],
   "source": [
    "#Create a table \n",
    "import pymysql.cursors\n",
    "connection = pymysql.connect(host='127.0.0.1', port=3307, user='root', passwd=\"\", db='stock', charset=\"utf8\", cursorclass=pymysql.cursors.DictCursor)\n",
    "cursor = connection.cursor()\n",
    "sql = \"\"\"create table API(ID int NOT NULL AUTO_INCREMENT, match_price_c float not null, high_price_h float not null, low_price_l float not null, ref_price_o float not null, status_s varchar(255), time_t varchar(255), volume_v int not null, PRIMARY KEY (ID))\"\"\"\n",
    "\n",
    "cursor.execute(sql)\n",
    "connection.commit()\n",
    "connection.close()\n"
   ]
  },
  {
   "cell_type": "code",
   "execution_count": 15,
   "metadata": {
    "collapsed": false
   },
   "outputs": [
    {
     "name": "stdout",
     "output_type": "stream",
     "text": [
      "         c      h      l      o   s           t        v\n",
      "0     8.55   8.64   8.50   8.59  ok  2017-01-03   966000\n",
      "1     8.50   8.58   8.44   8.54  ok  2017-01-04  1216710\n",
      "2     8.60   8.70   8.41   8.50  ok  2017-01-05  5698510\n",
      "3     8.68   8.68   8.60   8.66  ok  2017-01-06  2969950\n",
      "4     8.60   8.68   8.57   8.68  ok  2017-01-09   374770\n",
      "5     8.61   8.61   8.46   8.59  ok  2017-01-10  1444590\n",
      "6     8.54   8.63   8.54   8.60  ok  2017-01-11  1110410\n",
      "7     8.63   8.65   8.53   8.60  ok  2017-01-12  2481870\n",
      "8     8.59   8.62   8.55   8.62  ok  2017-01-13  2064140\n",
      "9     8.20   8.58   8.00   8.58  ok  2017-01-16  2064930\n",
      "10    8.22   8.38   8.20   8.20  ok  2017-01-17   992120\n",
      "11    8.21   8.30   8.15   8.30  ok  2017-01-18   762420\n",
      "12    8.12   8.21   8.00   8.11  ok  2017-01-19  1139260\n",
      "13    8.20   8.35   8.00   8.00  ok  2017-01-20  2140120\n",
      "14    8.17   8.21   8.13   8.20  ok  2017-01-23   403700\n",
      "15    8.20   8.25   8.15   8.15  ok  2017-01-24  1228850\n",
      "16    8.24   8.24   8.18   8.20  ok  2017-01-25  1264100\n",
      "17    8.38   8.39   8.25   8.30  ok  2017-02-02  1481680\n",
      "18    8.40   8.41   8.28   8.39  ok  2017-02-03  1193970\n",
      "19    8.38   8.39   8.32   8.39  ok  2017-02-06   561170\n",
      "20    8.67   8.67   8.34   8.34  ok  2017-02-07  5457150\n",
      "21    8.69   8.73   8.61   8.63  ok  2017-02-08  4533700\n",
      "22    8.66   8.69   8.62   8.65  ok  2017-02-09   648090\n",
      "23    8.63   8.65   8.58   8.65  ok  2017-02-10  1035260\n",
      "24    8.54   8.64   8.54   8.64  ok  2017-02-13  1047110\n",
      "25    8.63   8.66   8.50   8.56  ok  2017-02-14  1990180\n",
      "26    8.60   8.61   8.50   8.60  ok  2017-02-15  2163130\n",
      "27    8.53   8.61   8.53   8.60  ok  2017-02-16  2226980\n",
      "28    8.44   8.53   8.42   8.51  ok  2017-02-17  2722100\n",
      "29    8.54   8.60   8.44   8.44  ok  2017-02-20  2107600\n",
      "..     ...    ...    ...    ...  ..         ...      ...\n",
      "117  12.25  12.70  12.15  12.55  ok  2017-06-27  6705240\n",
      "118  12.35  12.40  12.10  12.25  ok  2017-06-28  2924650\n",
      "119  12.35  12.70  12.30  12.45  ok  2017-06-29  5278370\n",
      "120  12.25  12.60  12.20  12.50  ok  2017-06-30  4324550\n",
      "121  12.30  12.45  12.20  12.30  ok  2017-07-03  3672590\n",
      "122  12.00  12.40  11.95  12.30  ok  2017-07-04  5534210\n",
      "123  12.10  12.30  11.85  12.00  ok  2017-07-05  4815040\n",
      "124  12.45  12.50  12.10  12.25  ok  2017-07-06  4476510\n",
      "125  12.00  12.55  12.00  12.55  ok  2017-07-07  5648750\n",
      "126  11.80  12.10  11.70  12.00  ok  2017-07-10  6220810\n",
      "127  11.70  11.85  11.40  11.75  ok  2017-07-11  3859860\n",
      "128  11.65  11.90  11.65  11.90  ok  2017-07-12  2565250\n",
      "129  11.65  11.75  11.55  11.65  ok  2017-07-13  2852450\n",
      "130  11.60  11.75  11.60  11.65  ok  2017-07-14  2252230\n",
      "131  11.00  11.60  10.85  11.60  ok  2017-07-17  4552230\n",
      "132  10.85  11.10  10.70  10.90  ok  2017-07-18  3515250\n",
      "133  10.90  11.05  10.70  11.00  ok  2017-07-19  2307480\n",
      "134  11.20  11.20  10.80  10.85  ok  2017-07-20  1990410\n",
      "135  10.95  11.30  10.95  11.20  ok  2017-07-21  1542650\n",
      "136  10.65  10.90  10.60  10.80  ok  2017-07-24  1837280\n",
      "137  11.00  11.00  10.60  10.65  ok  2017-07-25  2473480\n",
      "138  11.75  11.75  10.95  11.10  ok  2017-07-26  5525400\n",
      "139  11.50  11.90  11.40  11.75  ok  2017-07-27  2960890\n",
      "140  11.50  11.70  11.45  11.50  ok  2017-07-28  3766170\n",
      "141  11.55  11.65  11.45  11.50  ok  2017-07-31  2883950\n",
      "142  11.70  12.20  11.45  11.60  ok  2017-08-01  6516360\n",
      "143  11.60  11.75  11.40  11.65  ok  2017-08-02  3506560\n",
      "144  11.65  11.85  11.55  11.55  ok  2017-08-03  3633880\n",
      "145  11.55  11.70  11.50  11.60  ok  2017-08-04  3607380\n",
      "146  11.50  11.70  11.45  11.50  ok  2017-08-07  3387870\n",
      "\n",
      "[147 rows x 7 columns]\n"
     ]
    }
   ],
   "source": [
    "import pandas as pd\n",
    "import datetime\n",
    "import pymysql.cursors\n",
    "\n",
    "df = pd.read_json('https://dchart-api.vndirect.com.vn/dchart/history?symbol=scr&resolution=D&from=1483261200&to=1502117160')\n",
    "df.t= pd.to_datetime((df.t),unit='s')\n",
    "df['t']= df['t'].astype(str)\n",
    "print (df)\n",
    "connection = pymysql.connect(host='127.0.0.1', port=3307, user='root', passwd=\"\", db='stock', charset=\"utf8\", cursorclass=pymysql.cursors.DictCursor)\n",
    "cursor = connection.cursor()\n",
    "\n",
    "for index, rows in df.iterrows():\n",
    "    cursor.execute(\"INSERT INTO API(match_price_c, high_price_h, low_price_l, ref_price_o, status_s, time_t, volume_v) VALUES (%s,%s, %s, %s, %s, %s, %s)\",rows.tolist())\n",
    "    \n",
    "connection.commit()\n",
    "connection.close()\n"
   ]
  },
  {
   "cell_type": "code",
   "execution_count": null,
   "metadata": {
    "collapsed": true
   },
   "outputs": [],
   "source": []
  }
 ],
 "metadata": {
  "anaconda-cloud": {},
  "kernelspec": {
   "display_name": "Python [default]",
   "language": "python",
   "name": "python3"
  },
  "language_info": {
   "codemirror_mode": {
    "name": "ipython",
    "version": 3
   },
   "file_extension": ".py",
   "mimetype": "text/x-python",
   "name": "python",
   "nbconvert_exporter": "python",
   "pygments_lexer": "ipython3",
   "version": "3.5.2"
  }
 },
 "nbformat": 4,
 "nbformat_minor": 1
}
