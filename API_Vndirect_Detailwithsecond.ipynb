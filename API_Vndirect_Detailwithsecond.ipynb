{
 "cells": [
  {
   "cell_type": "code",
   "execution_count": null,
   "metadata": {
    "collapsed": true
   },
   "outputs": [],
   "source": [
    "#'https://dchart-api.vndirect.com.vn/dchart/history?symbol=SCR&resolution=5&from=1502096400000&to=1502117160000'\n",
    "# Use https://www.epochconverter.com/ to convert datetime to epochtime "
   ]
  },
  {
   "cell_type": "code",
   "execution_count": 10,
   "metadata": {
    "collapsed": false
   },
   "outputs": [],
   "source": [
    "#Create a table \n",
    "import pymysql.cursors\n",
    "connection = pymysql.connect(host='127.0.0.1', port=3307, user='root', passwd=\"\", db='stock', charset=\"utf8\", cursorclass=pymysql.cursors.DictCursor)\n",
    "cursor = connection.cursor()\n",
    "sql = \"\"\"create table API_second(ID int NOT NULL AUTO_INCREMENT, match_price_c float not null, high_price_h float not null, low_price_l float not null, ref_price_o float not null, status_s varchar(255), time_t varchar(255), volume_v int not null, PRIMARY KEY (ID))\"\"\"\n",
    "\n",
    "cursor.execute(sql)\n",
    "connection.commit()\n",
    "connection.close()\n"
   ]
  },
  {
   "cell_type": "code",
   "execution_count": 2,
   "metadata": {
    "collapsed": false
   },
   "outputs": [
    {
     "name": "stdout",
     "output_type": "stream",
     "text": [
      "         c      h      l      o   s                    t       v\n",
      "0    11.60  11.60  11.55  11.60  ok  2017-08-01 09:15:18   82110\n",
      "1    11.60  11.65  11.55  11.60  ok  2017-08-01 09:20:24   84170\n",
      "2    11.55  11.55  11.55  11.55  ok  2017-08-01 09:27:11   94690\n",
      "3    11.55  11.55  11.50  11.55  ok  2017-08-01 09:30:02  154490\n",
      "4    11.55  11.55  11.55  11.55  ok  2017-08-01 09:35:59   12470\n",
      "5    11.55  11.55  11.50  11.55  ok  2017-08-01 09:41:09   25720\n",
      "6    11.50  11.50  11.50  11.50  ok  2017-08-01 09:45:24  179930\n",
      "7    11.55  11.55  11.50  11.50  ok  2017-08-01 09:50:54   55210\n",
      "8    11.50  11.50  11.50  11.50  ok  2017-08-01 09:56:39   33500\n",
      "9    11.50  11.50  11.50  11.50  ok  2017-08-01 10:00:27  113350\n",
      "10   11.50  11.50  11.45  11.50  ok  2017-08-01 10:06:06   90110\n",
      "11   11.50  11.50  11.50  11.50  ok  2017-08-01 10:10:45    3120\n",
      "12   11.50  11.50  11.50  11.50  ok  2017-08-01 10:16:25    7380\n",
      "13   11.50  11.50  11.50  11.50  ok  2017-08-01 10:20:31   56200\n",
      "14   11.55  11.55  11.50  11.50  ok  2017-08-01 10:25:08    6700\n",
      "15   11.55  11.55  11.55  11.55  ok  2017-08-01 10:33:02   13840\n",
      "16   11.50  11.55  11.50  11.55  ok  2017-08-01 10:35:17  107200\n",
      "17   11.50  11.50  11.50  11.50  ok  2017-08-01 10:41:09    7000\n",
      "18   11.55  11.55  11.50  11.50  ok  2017-08-01 10:45:29   42510\n",
      "19   11.55  11.60  11.55  11.55  ok  2017-08-01 10:50:12  175000\n",
      "20   11.55  11.60  11.55  11.55  ok  2017-08-01 10:55:06   21110\n",
      "21   11.60  11.60  11.60  11.60  ok  2017-08-01 11:00:17   34710\n",
      "22   11.60  11.60  11.55  11.55  ok  2017-08-01 11:05:29   96970\n",
      "23   11.60  11.60  11.60  11.60  ok  2017-08-01 11:10:05  124770\n",
      "24   11.90  11.95  11.65  11.65  ok  2017-08-01 11:15:11  753850\n",
      "25   12.00  12.00  11.85  11.85  ok  2017-08-01 11:20:16  706820\n",
      "26   12.00  12.05  12.00  12.00  ok  2017-08-01 11:25:02  366630\n",
      "27   12.05  12.05  12.00  12.00  ok  2017-08-01 13:00:19  235400\n",
      "28   12.05  12.10  12.05  12.10  ok  2017-08-01 13:05:16   88000\n",
      "29   12.15  12.20  12.10  12.10  ok  2017-08-01 13:10:00  387560\n",
      "..     ...    ...    ...    ...  ..                  ...     ...\n",
      "243  11.55  11.55  11.55  11.55  ok  2017-08-07 10:25:24   80000\n",
      "244  11.55  11.60  11.55  11.60  ok  2017-08-07 10:30:55  124720\n",
      "245  11.55  11.55  11.55  11.55  ok  2017-08-07 10:35:41   89290\n",
      "246  11.55  11.55  11.55  11.55  ok  2017-08-07 10:40:25    6230\n",
      "247  11.55  11.55  11.55  11.55  ok  2017-08-07 10:45:13   19540\n",
      "248  11.60  11.60  11.55  11.55  ok  2017-08-07 10:50:13   10700\n",
      "249  11.55  11.55  11.55  11.55  ok  2017-08-07 10:57:16      40\n",
      "250  11.55  11.55  11.55  11.55  ok  2017-08-07 11:00:09    5120\n",
      "251  11.55  11.55  11.55  11.55  ok  2017-08-07 11:05:58  133990\n",
      "252  11.55  11.60  11.55  11.60  ok  2017-08-07 11:15:12   21940\n",
      "253  11.60  11.60  11.55  11.55  ok  2017-08-07 11:21:54   16350\n",
      "254  11.60  11.60  11.55  11.55  ok  2017-08-07 11:26:56  121050\n",
      "255  11.60  11.60  11.55  11.55  ok  2017-08-07 13:00:20   11510\n",
      "256  11.55  11.55  11.50  11.55  ok  2017-08-07 13:10:20  270000\n",
      "257  11.55  11.55  11.55  11.55  ok  2017-08-07 13:15:28   53100\n",
      "258  11.55  11.55  11.55  11.55  ok  2017-08-07 13:20:05   59560\n",
      "259  11.55  11.55  11.55  11.55  ok  2017-08-07 13:25:06   31940\n",
      "260  11.55  11.55  11.55  11.55  ok  2017-08-07 13:30:22  104360\n",
      "261  11.55  11.60  11.55  11.60  ok  2017-08-07 13:36:36   32860\n",
      "262  11.55  11.55  11.50  11.50  ok  2017-08-07 13:40:27   57690\n",
      "263  11.55  11.55  11.55  11.55  ok  2017-08-07 13:45:06   18710\n",
      "264  11.55  11.55  11.55  11.55  ok  2017-08-07 13:50:24  172110\n",
      "265  11.55  11.55  11.55  11.55  ok  2017-08-07 13:55:14   55550\n",
      "266  11.50  11.55  11.50  11.55  ok  2017-08-07 14:01:08   31420\n",
      "267  11.55  11.55  11.55  11.55  ok  2017-08-07 14:06:07   32520\n",
      "268  11.50  11.55  11.50  11.50  ok  2017-08-07 14:11:19   41100\n",
      "269  11.50  11.55  11.50  11.50  ok  2017-08-07 14:15:18   20060\n",
      "270  11.50  11.50  11.50  11.50  ok  2017-08-07 14:20:56  210400\n",
      "271  11.50  11.50  11.50  11.50  ok  2017-08-07 14:26:18   71650\n",
      "272  11.50  11.50  11.50  11.50  ok  2017-08-07 14:46:17  250500\n",
      "\n",
      "[273 rows x 7 columns]\n"
     ]
    }
   ],
   "source": [
    "import pandas as pd\n",
    "import datetime\n",
    "import pymysql.cursors\n",
    "\n",
    "df = pd.read_json('https://dchart-api.vndirect.com.vn/dchart/history?symbol=SCR&resolution=5&from=1502096400000&to=1502117160000')\n",
    "df.t= pd.to_datetime((df.t*7*3600),unit='s')\n",
    "df['t']= df['t'].astype(str)\n",
    "print (df)\n",
    "connection = pymysql.connect(host='127.0.0.1', port=3307, user='root', passwd=\"\", db='stock', charset=\"utf8\", cursorclass=pymysql.cursors.DictCursor)\n",
    "cursor = connection.cursor()\n",
    "\n",
    "for index, rows in df.iterrows():\n",
    "    cursor.execute(\"INSERT INTO API_second(match_price_c, high_price_h, low_price_l, ref_price_o, status_s, time_t, volume_v) VALUES (%s,%s, %s, %s, %s, %s, %s)\",rows.tolist())\n",
    "    \n",
    "connection.commit()\n",
    "connection.close()"
   ]
  },
  {
   "cell_type": "code",
   "execution_count": null,
   "metadata": {
    "collapsed": true
   },
   "outputs": [],
   "source": []
  }
 ],
 "metadata": {
  "anaconda-cloud": {},
  "kernelspec": {
   "display_name": "Python [default]",
   "language": "python",
   "name": "python3"
  },
  "language_info": {
   "codemirror_mode": {
    "name": "ipython",
    "version": 3
   },
   "file_extension": ".py",
   "mimetype": "text/x-python",
   "name": "python",
   "nbconvert_exporter": "python",
   "pygments_lexer": "ipython3",
   "version": "3.5.2"
  }
 },
 "nbformat": 4,
 "nbformat_minor": 1
}
