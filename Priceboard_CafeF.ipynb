{
 "cells": [
  {
   "cell_type": "code",
   "execution_count": 3,
   "metadata": {
    "collapsed": true
   },
   "outputs": [],
   "source": [
    "#Create a table \n",
    "import pymysql.cursors\n",
    "connection = pymysql.connect(host='127.0.0.1', port=3306, user='root', passwd=\"\", db='stock', charset=\"utf8\", cursorclass=pymysql.cursors.DictCursor)\n",
    "cursor = connection.cursor()\n",
    "sql = \"\"\"create table Pricelist(time datetime, ma_ck_a char(20) not null, TC_b int not null, tran_c int not null, san_d int not null, giamua3_e int, klmua3_f int, giamua2_g int, klmua2_h int, giamua1_i int, klmua1_j int, tl_k int, giakhop_l int, klkhop_m int, tongkl_n int, giaban1_o int, klban1_p int, giaban2_q int, klban2_r int, giaban3_s int, klban3_t int, tb int, ts int, u int, giacao_v int, giathap_w int, DTNNmua_x int, y int, z int)\"\"\"\n",
    "\n",
    "cursor.execute(sql)\n",
    "connection.commit()\n",
    "connection.close()\n"
   ]
  },
  {
   "cell_type": "code",
   "execution_count": null,
   "metadata": {
    "collapsed": false
   },
   "outputs": [],
   "source": [
    "#Insert data into Mysql and automatically update data\n",
    "import schedule\n",
    "import time\n",
    "import pandas as pd\n",
    "import pymysql.cursors\n",
    "import csv\n",
    "\n",
    "def job():\n",
    "    df = pd.read_json('http://banggia.cafef.vn/stockhandler.ashx?center=undefined')\n",
    "\n",
    "    connection = pymysql.connect(host='127.0.0.1', port=3306, user='root', passwd=\"\", db='stock', charset=\"utf8\", cursorclass=pymysql.cursors.DictCursor)\n",
    "    cursor = connection.cursor()\n",
    "\n",
    "    for index, rows in df.iterrows():\n",
    "        cursor.execute(\"INSERT INTO Pricelist( time , ma_ck_a, TC_b, tran_c, san_d, giamua3_e, klmua3_f, giamua2_g, klmua2_h, giamua1_i, klmua1_j, tl_k, giakhop_l, klkhop_m, tongkl_n, giaban1_o, klban1_p, giaban2_q, klban2_r, giaban3_s, klban3_t, tb, ts, u, giacao_v, giathap_w, DTNNmua_x, y,z) VALUES (%s,%s, %s, %s, %s, %s, %s, %s, %s, %s, %s, %s, %s, %s, %s, %s, %s, %s, %s, %s, %s, %s, %s, %s, %s, %s, %s, %s, %s)\",rows.tolist())\n",
    "    \n",
    "    connection.commit()\n",
    "    connection.close()\n",
    "    print (df)\n",
    "    \n",
    "schedule.every().minutes.do(job)\n",
    "schedule.every().hour.do(job)\n",
    "schedule.every().day.at(\"9:00\").do(job)\n",
    "while True:\n",
    "    schedule.run_pending()\n",
    "    time.sleep(1)"
   ]
  },
  {
   "cell_type": "code",
   "execution_count": null,
   "metadata": {
    "collapsed": true
   },
   "outputs": [],
   "source": []
  }
 ],
 "metadata": {
  "anaconda-cloud": {},
  "kernelspec": {
   "display_name": "Python [default]",
   "language": "python",
   "name": "python3"
  },
  "language_info": {
   "codemirror_mode": {
    "name": "ipython",
    "version": 3
   },
   "file_extension": ".py",
   "mimetype": "text/x-python",
   "name": "python",
   "nbconvert_exporter": "python",
   "pygments_lexer": "ipython3",
   "version": "3.5.2"
  }
 },
 "nbformat": 4,
 "nbformat_minor": 1
}
